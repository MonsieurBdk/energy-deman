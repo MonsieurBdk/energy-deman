{
 "cells": [
  {
   "cell_type": "code",
   "execution_count": 1,
   "id": "2ab7f083",
   "metadata": {},
   "outputs": [],
   "source": [
    "import numpy as np\n",
    "import pandas as pd\n",
    "import matplotlib.pyplot as plt\n",
    "import seaborn as sns"
   ]
  },
  {
   "cell_type": "code",
   "execution_count": 8,
   "id": "849bbf7e",
   "metadata": {},
   "outputs": [],
   "source": [
    "df = pd.read_csv(\"complete_dataset.csv\")"
   ]
  },
  {
   "cell_type": "code",
   "execution_count": 6,
   "id": "95d19bbc",
   "metadata": {},
   "outputs": [
    {
     "data": {
      "text/plain": [
       "<bound method Series.info of 0       2015-01-01\n",
       "1       2015-01-02\n",
       "2       2015-01-03\n",
       "3       2015-01-04\n",
       "4       2015-01-05\n",
       "           ...    \n",
       "2101    2020-10-02\n",
       "2102    2020-10-03\n",
       "2103    2020-10-04\n",
       "2104    2020-10-05\n",
       "2105    2020-10-06\n",
       "Name: date, Length: 2106, dtype: object>"
      ]
     },
     "execution_count": 6,
     "metadata": {},
     "output_type": "execute_result"
    }
   ],
   "source": [
    "df['date'].info"
   ]
  },
  {
   "cell_type": "code",
   "execution_count": 9,
   "id": "14f7b63d",
   "metadata": {},
   "outputs": [],
   "source": [
    "# CONVERTIR LE STRING DE LA DATE EN DATETIME\n",
    "\n",
    "df[\"date\"] = pd.to_datetime(df[\"date\"])"
   ]
  },
  {
   "cell_type": "code",
   "execution_count": null,
   "id": "84c8e410",
   "metadata": {},
   "outputs": [],
   "source": []
  }
 ],
 "metadata": {
  "kernelspec": {
   "display_name": "Python 3 (ipykernel)",
   "language": "python",
   "name": "python3"
  },
  "language_info": {
   "codemirror_mode": {
    "name": "ipython",
    "version": 3
   },
   "file_extension": ".py",
   "mimetype": "text/x-python",
   "name": "python",
   "nbconvert_exporter": "python",
   "pygments_lexer": "ipython3",
   "version": "3.9.19"
  }
 },
 "nbformat": 4,
 "nbformat_minor": 5
}
